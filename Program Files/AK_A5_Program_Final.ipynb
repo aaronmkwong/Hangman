{
 "cells": [
  {
   "cell_type": "code",
   "execution_count": 12,
   "metadata": {},
   "outputs": [
    {
     "name": "stdout",
     "output_type": "stream",
     "text": [
      "\u001b[1m\u001b[94mWELCOME TO DATA SCIENCE HANGMAN!\n",
      "\u001b[0m\n"
     ]
    },
    {
     "data": {
      "image/png": "[encoded data removed]",
      "text/plain": [
       "<Figure size 432x288 with 1 Axes>"
      ]
     },
     "metadata": {
      "needs_background": "light"
     },
     "output_type": "display_data"
    },
    {
     "name": "stdout",
     "output_type": "stream",
     "text": [
      "\u001b[1m\u001b[94m_ _ _ _ _ _ _ _\u001b[0m\n"
     ]
    },
    {
     "name": "stdin",
     "output_type": "stream",
     "text": [
      "\n",
      "Would you like to guess the word or a letter?\n",
      " Please type \"word\" or \"letter\": a\n",
      "\n",
      "Would you like to guess the word or a letter?\n",
      " Please type \"word\" or \"letter\": rr\n",
      "\n",
      "Would you like to guess the word or a letter?\n",
      " Please type \"word\" or \"letter\": r\n",
      "\n",
      "Would you like to guess the word or a letter?\n",
      " Please type \"word\" or \"letter\": letter\n"
     ]
    },
    {
     "name": "stdout",
     "output_type": "stream",
     "text": [
      " Letters incorrectly guessed: \n",
      "\u001b[1m\u001b[94m_ _ _ _ _ _ _ _\u001b[0m\n"
     ]
    },
    {
     "name": "stdin",
     "output_type": "stream",
     "text": [
      "\n",
      "What is your letter guess?: a\n"
     ]
    },
    {
     "name": "stdout",
     "output_type": "stream",
     "text": [
      "\u001b[1m\u001b[94m_ A _ A _ A _ _\u001b[0m\n"
     ]
    },
    {
     "name": "stdin",
     "output_type": "stream",
     "text": [
      "\n",
      "Would you like to guess the word or a letter?\n",
      " Please type \"word\" or \"letter\": letter\n"
     ]
    },
    {
     "name": "stdout",
     "output_type": "stream",
     "text": [
      " Letters incorrectly guessed: \n",
      "\u001b[1m\u001b[94m_ A _ A _ A _ _\u001b[0m\n"
     ]
    },
    {
     "name": "stdin",
     "output_type": "stream",
     "text": [
      "\n",
      "What is your letter guess?: e\n"
     ]
    },
    {
     "name": "stdout",
     "output_type": "stream",
     "text": [
      "\u001b[1m\u001b[94m_ A _ A _ A _ E\u001b[0m\n"
     ]
    },
    {
     "name": "stdin",
     "output_type": "stream",
     "text": [
      "\n",
      "Would you like to guess the word or a letter?\n",
      " Please type \"word\" or \"letter\": letter\n"
     ]
    },
    {
     "name": "stdout",
     "output_type": "stream",
     "text": [
      " Letters incorrectly guessed: \n",
      "\u001b[1m\u001b[94m_ A _ A _ A _ E\u001b[0m\n"
     ]
    },
    {
     "name": "stdin",
     "output_type": "stream",
     "text": [
      "\n",
      "What is your letter guess?: u\n"
     ]
    },
    {
     "data": {
      "image/png": "[encoded data removed]",
      "text/plain": [
       "<Figure size 432x288 with 1 Axes>"
      ]
     },
     "metadata": {
      "needs_background": "light"
     },
     "output_type": "display_data"
    },
    {
     "name": "stdin",
     "output_type": "stream",
     "text": [
      "\n",
      "Would you like to guess the word or a letter?\n",
      " Please type \"word\" or \"letter\": letter\n"
     ]
    },
    {
     "name": "stdout",
     "output_type": "stream",
     "text": [
      " Letters incorrectly guessed: U\n",
      "\u001b[1m\u001b[94m_ A _ A _ A _ E\u001b[0m\n"
     ]
    },
    {
     "name": "stdin",
     "output_type": "stream",
     "text": [
      "\n",
      "What is your letter guess?: b\n"
     ]
    },
    {
     "name": "stdout",
     "output_type": "stream",
     "text": [
      "\u001b[1m\u001b[94m_ A _ A B A _ E\u001b[0m\n"
     ]
    },
    {
     "name": "stdin",
     "output_type": "stream",
     "text": [
      "\n",
      "Would you like to guess the word or a letter?\n",
      " Please type \"word\" or \"letter\": letter\n"
     ]
    },
    {
     "name": "stdout",
     "output_type": "stream",
     "text": [
      " Letters incorrectly guessed: U\n",
      "\u001b[1m\u001b[94m_ A _ A B A _ E\u001b[0m\n"
     ]
    },
    {
     "name": "stdin",
     "output_type": "stream",
     "text": [
      "\n",
      "What is your letter guess?: b\n"
     ]
    },
    {
     "name": "stdout",
     "output_type": "stream",
     "text": [
      "\u001b[1m\u001b[94m_ A _ A B A _ E\u001b[0m\n"
     ]
    },
    {
     "name": "stdin",
     "output_type": "stream",
     "text": [
      "\n",
      "Would you like to guess the word or a letter?\n",
      " Please type \"word\" or \"letter\": letter\n"
     ]
    },
    {
     "name": "stdout",
     "output_type": "stream",
     "text": [
      " Letters incorrectly guessed: U\n",
      "\u001b[1m\u001b[94m_ A _ A B A _ E\u001b[0m\n"
     ]
    },
    {
     "name": "stdin",
     "output_type": "stream",
     "text": [
      "\n",
      "What is your letter guess?: b\n"
     ]
    },
    {
     "name": "stdout",
     "output_type": "stream",
     "text": [
      "\u001b[1m\u001b[94m_ A _ A B A _ E\u001b[0m\n"
     ]
    },
    {
     "name": "stdin",
     "output_type": "stream",
     "text": [
      "\n",
      "Would you like to guess the word or a letter?\n",
      " Please type \"word\" or \"letter\": letter\n"
     ]
    },
    {
     "name": "stdout",
     "output_type": "stream",
     "text": [
      " Letters incorrectly guessed: U\n",
      "\u001b[1m\u001b[94m_ A _ A B A _ E\u001b[0m\n"
     ]
    },
    {
     "name": "stdin",
     "output_type": "stream",
     "text": [
      "\n",
      "What is your letter guess?: q\n"
     ]
    },
    {
     "data": {
      "image/png": "[encoded data removed]",
      "text/plain": [
       "<Figure size 432x288 with 1 Axes>"
      ]
     },
     "metadata": {
      "needs_background": "light"
     },
     "output_type": "display_data"
    },
    {
     "name": "stdin",
     "output_type": "stream",
     "text": [
      "\n",
      "Would you like to guess the word or a letter?\n",
      " Please type \"word\" or \"letter\": letter\n"
     ]
    },
    {
     "name": "stdout",
     "output_type": "stream",
     "text": [
      " Letters incorrectly guessed: Q, U\n",
      "\u001b[1m\u001b[94m_ A _ A B A _ E\u001b[0m\n"
     ]
    },
    {
     "name": "stdin",
     "output_type": "stream",
     "text": [
      "\n",
      "What is your letter guess?: r\n"
     ]
    },
    {
     "data": {
      "image/png": "[encoded data removed]",
      "text/plain": [
       "<Figure size 432x288 with 1 Axes>"
      ]
     },
     "metadata": {
      "needs_background": "light"
     },
     "output_type": "display_data"
    },
    {
     "name": "stdin",
     "output_type": "stream",
     "text": [
      "\n",
      "Would you like to guess the word or a letter?\n",
      " Please type \"word\" or \"letter\": letter\n"
     ]
    },
    {
     "name": "stdout",
     "output_type": "stream",
     "text": [
      " Letters incorrectly guessed: Q, R, U\n",
      "\u001b[1m\u001b[94m_ A _ A B A _ E\u001b[0m\n"
     ]
    },
    {
     "name": "stdin",
     "output_type": "stream",
     "text": [
      "\n",
      "What is your letter guess?: m\n"
     ]
    },
    {
     "data": {
      "image/png": "[encoded data removed]",
      "text/plain": [
       "<Figure size 432x288 with 1 Axes>"
      ]
     },
     "metadata": {
      "needs_background": "light"
     },
     "output_type": "display_data"
    },
    {
     "name": "stdin",
     "output_type": "stream",
     "text": [
      "\n",
      "Would you like to guess the word or a letter?\n",
      " Please type \"word\" or \"letter\": letter\n"
     ]
    },
    {
     "name": "stdout",
     "output_type": "stream",
     "text": [
      " Letters incorrectly guessed: M, Q, R, U\n",
      "\u001b[1m\u001b[94m_ A _ A B A _ E\u001b[0m\n"
     ]
    },
    {
     "name": "stdin",
     "output_type": "stream",
     "text": [
      "\n",
      "What is your letter guess?: s\n"
     ]
    },
    {
     "name": "stdout",
     "output_type": "stream",
     "text": [
      "\u001b[1m\u001b[94m_ A _ A B A S E\u001b[0m\n"
     ]
    },
    {
     "name": "stdin",
     "output_type": "stream",
     "text": [
      "\n",
      "Would you like to guess the word or a letter?\n",
      " Please type \"word\" or \"letter\": word\n",
      "\n",
      "What is your word guess?: database\n"
     ]
    },
    {
     "name": "stdout",
     "output_type": "stream",
     "text": [
      "\u001b[1m\u001b[94mD A T A B A S E\u001b[0m\n",
      "\u001b[1m\u001b[94m\n",
      "YOU ARE A WINNER!\u001b[0m\n"
     ]
    }
   ],
   "source": [
    "# the hangman game allows the user to guess a word or letter and if either is incorrect (6 guess allowed) the hangman image changes until the game ends  \n",
    "# when the user inputs a text other than \"word\" or \"letter\" no penalty is incurred and is prompted for a word or letter selection   \n",
    "# when the user inputs a letter already correctly guessed no penalty is incurred and is prompted for a word or letter selection\n",
    "# incorrect letter guesses are displayed before each letter selection for user convenience, but if the user selects the same letter more than once they are penalized each time\n",
    "# incorrect word guesses are not displayed based on an assumption of default difficulty and for cleaner game display  \n",
    "# the program uses two classes (font formatting, random generated hangman words from CSV import) and one function (display hangman image from png imports) in the module AK_A5_Module\n",
    "# there is a known bug in which the images do not display correctly for the first game \n",
    "# there are easter egg words from Terminator and Blade Runner that are not necessarily data science related \n",
    "\n",
    "# import classes (font formatting, hangman words) and function (hangman images) and initialize game word, penalty counter and list for correct letter guesses\n",
    "import AK_A5_Module_Final as mod\n",
    "hangman_word = mod.hangman_words().word\n",
    "game_word = [\"_\" for letter in list(hangman_word)]\n",
    "penalty_counter = 0\n",
    "correct_letter_guesses = []\n",
    "incorrect_letter_guesses = []\n",
    "\n",
    "# display welcome greeting, initial hangman picture and blank letter to guess\n",
    "print(mod.font.bold + mod.font.blue + \"WELCOME TO DATA SCIENCE HANGMAN!\\n\" + mod.font.end)\n",
    "mod.hangman_image(penalty_counter);\n",
    "print(mod.font.bold + mod.font.blue + ' '.join(game_word) + mod.font.end)\n",
    "\n",
    "# game logic\n",
    "while game_word != hangman_word or penalty_counter != 6:\n",
    "    # condition for winning game by word guess \n",
    "    if game_word == hangman_word:\n",
    "        print(mod.font.bold + mod.font.blue + ' '.join(game_word) + mod.font.end)\n",
    "        print(mod.font.bold + mod.font.blue + '\\nYOU ARE A WINNER!' + mod.font.end)\n",
    "        break\n",
    "    # condition for losing game by combined word and letter guesses      \n",
    "    elif penalty_counter == 6:\n",
    "        print(mod.font.bold + mod.font.blue + '\\nPLEASE TRY AGAIN!' + mod.font.end)\n",
    "        break\n",
    "    # otherwise play game     \n",
    "    else:\n",
    "        # obtain user choice for a word or letter guess and handle case exceptions by always converting to lower \n",
    "        player_choice = input('\\nWould you like to guess the word or a letter?\\n Please type \"word\" or \"letter\":').lower()\n",
    "        if player_choice == 'word':\n",
    "            # obtain user choice for word guess, handle case exceptions by always converting to upper and for readability\n",
    "            player_word_guess = input('\\nWhat is your word guess?:').upper() \n",
    "            if player_word_guess == hangman_word:\n",
    "                game_word = player_word_guess\n",
    "            # advance penalty if incorrect and display related hangman image \n",
    "            else:\n",
    "                penalty_counter += 1\n",
    "                mod.hangman_image(penalty_counter);\n",
    "        # obtain user choice for letter guess, handle case exceptions by always converting to upper and for readability         \n",
    "        elif player_choice == 'letter':\n",
    "            # display incorrect and correct guesses to update user history and progress\n",
    "            print(' Letters incorrectly guessed: ' + ', '.join(sorted(incorrect_letter_guesses)))\n",
    "            print(mod.font.bold + mod.font.blue + ' '.join(game_word) + mod.font.end)\n",
    "            player_letter_guess = input('\\nWhat is your letter guess?:').upper()\n",
    "            # add letter to a correct guess list and replace hangman word solution with '_' for letters not yet correctly guesses\n",
    "            if player_letter_guess in list(hangman_word):\n",
    "                correct_letter_guesses.append(player_letter_guess)\n",
    "                game_word = ['_' if letter not in correct_letter_guesses else letter for letter in hangman_word]\n",
    "                print(mod.font.bold + mod.font.blue + ' '.join(game_word) + mod.font.end)\n",
    "                game_word = ''.join(game_word)\n",
    "            # add letter to incorrect guess list, advance penalty counter and display related hangman image\n",
    "            else:\n",
    "                if len(player_letter_guess) == 1:\n",
    "                    incorrect_letter_guesses.append(player_letter_guess)\n",
    "                    penalty_counter += 1\n",
    "                    mod.hangman_image(penalty_counter);"
   ]
  },
  {
   "cell_type": "code",
   "execution_count": 106,
   "metadata": {},
   "outputs": [
    {
     "name": "stdout",
     "output_type": "stream",
     "text": [
      "3 items had no tests:\n",
      "    __main__\n",
      "    __main__.hangman_words\n",
      "    __main__.hangman_words.__init__\n",
      "0 tests in 3 items.\n",
      "0 passed and 0 failed.\n",
      "Test passed.\n"
     ]
    },
    {
     "data": {
      "text/plain": [
       "TestResults(failed=0, attempted=0)"
      ]
     },
     "execution_count": 106,
     "metadata": {},
     "output_type": "execute_result"
    }
   ],
   "source": [
    "import doctest\n",
    "doctest.testmod(verbose = True)"
   ]
  },
  {
   "cell_type": "code",
   "execution_count": null,
   "metadata": {},
   "outputs": [],
   "source": []
  }
 ],
 "metadata": {
  "kernelspec": {
   "display_name": "Python 3",
   "language": "python",
   "name": "python3"
  },
  "language_info": {
   "codemirror_mode": {
    "name": "ipython",
    "version": 3
   },
   "file_extension": ".py",
   "mimetype": "text/x-python",
   "name": "python",
   "nbconvert_exporter": "python",
   "pygments_lexer": "ipython3",
   "version": "3.7.4"
  }
 },
 "nbformat": 4,
 "nbformat_minor": 4
}
